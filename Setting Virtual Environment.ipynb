{
 "cells": [
  {
   "cell_type": "markdown",
   "source": [
    "# **Python Virtual Environment**\r\n",
    "It is often useful to have one or more Python environments where you can experiment with different combinations of packages without affecting your main installation. Python supports this through virtual environments. \r\n",
    "\r\n",
    "The virtual environment is a copy of an existing version of Python with the option to inherit existing packages. A virtual environment is also useful when you need to work on a shared system and do not have permission to install packages as you will be able to install them in the virtual environment.\r\n",
    "\r\n",
    "Consists of: \r\n",
    "- Interpreter\r\n",
    "- Packages\r\n",
    "\r\n",
    "One can have several environments on a machine. \r\n",
    "- Keeps applications and respective packages isolated\r\n",
    "- Because of versioning issues of the different packages"
   ],
   "metadata": {}
  },
  {
   "cell_type": "markdown",
   "source": [
    "**Create environment for course:**\r\n",
    "In your terminal, run this command\r\n",
    "\r\n",
    "> conda create -n ml-zoomcamp python=3.8\r\n",
    "\r\n",
    "**Activate the enviroment**\r\n",
    "Do this whenever you are adding new packages for the course or working on coursework\r\n",
    "\r\n",
    "> conda activate ml-zoomcamp\r\n",
    "\r\n",
    "**Install libraries**\r\n",
    "Installing libraries available on conda\r\n",
    "\r\n",
    "> conda install numpy pandas scikit-learn seaborn jupyter\r\n",
    "\r\n",
    "**Optionally, if you want to use tensorflow locally with a GPU:**\r\n",
    "\r\n",
    "> conda install cudatookit=11.2\r\n",
    "\r\n",
    "**Additional libraries only available on pypi:**\r\n",
    "\r\n",
    "> pip install xgboost \r\n",
    "> pip install tensorflow\r\n",
    "\r\n",
    "**Installing third party packages**\r\n",
    "> conda install <package_name>"
   ],
   "metadata": {}
  },
  {
   "cell_type": "markdown",
   "source": [],
   "metadata": {}
  },
  {
   "cell_type": "code",
   "execution_count": null,
   "source": [],
   "outputs": [],
   "metadata": {}
  },
  {
   "cell_type": "code",
   "execution_count": null,
   "source": [],
   "outputs": [],
   "metadata": {}
  }
 ],
 "metadata": {
  "orig_nbformat": 4,
  "language_info": {
   "name": "python",
   "version": "3.7.4"
  },
  "kernelspec": {
   "name": "python3",
   "display_name": "Python 3.7.4 64-bit ('base': conda)"
  },
  "interpreter": {
   "hash": "51d439fa56edd0938934adc9194f49c45bdd2291f02681030135565519cea739"
  }
 },
 "nbformat": 4,
 "nbformat_minor": 2
}