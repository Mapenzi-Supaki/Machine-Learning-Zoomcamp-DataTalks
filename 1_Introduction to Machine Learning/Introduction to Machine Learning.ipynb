{
 "cells": [
  {
   "cell_type": "markdown",
   "source": [
    "# **1.1 Introduction to Machine Learning**\r\n",
    "features (data) - what you know about / information about the object\r\n",
    "\r\n",
    "target (desired output) - what you want to predict about object\r\n",
    "\r\n",
    "features + target -> [Train] = Model -> [Predict] = Predictions\r\n",
    "- Take the features and target and train the model\r\n",
    "- Then use the model to make predictions\r\n",
    "\r\n",
    "features + model = predictions\r\n",
    "- Features, ut them in a model and model produces predictions\r\n",
    "\r\n",
    "Data - model extracts patterns from the data\r\n",
    "\r\n",
    "Machine learning - process of extracting patterns from data\r\n",
    "\r\n",
    "*Model Training*\r\n",
    "Types of Data:\r\n",
    "- Features\r\n",
    "- Target \r\n",
    "- Output is the model that can be used later\r\n",
    "\r\n",
    "\r\n",
    "*Predictions*\r\n",
    "- Take the features, put in the model and it tries to make predictions"
   ],
   "metadata": {}
  },
  {
   "cell_type": "markdown",
   "source": [
    "# **1.2 ML vs Rule-Based Systems**"
   ],
   "metadata": {}
  },
  {
   "cell_type": "code",
   "execution_count": null,
   "source": [
    "# Rules\r\n",
    "def detect_spam (email):\r\n",
    "    if email.sender == 'promotions@online.com':\r\n",
    "        return SPAM \r\n",
    "    if contains (email.tile, ['tax', 'review']) and domain (email.sender, 'online.com'):\r\n",
    "        return SPAM \r\n",
    "    return GOOD"
   ],
   "outputs": [],
   "metadata": {}
  },
  {
   "cell_type": "markdown",
   "source": [
    "Machine Learning to solve the issue\r\n",
    " - Get data\r\n",
    " - Extract the features [Define and calculate feature] - first do a rule based systems and then use those rules as features\r\n",
    " > Length of title - > 10? true/false\r\n",
    "\r\n",
    " > Length og body > 10? true/false\r\n",
    "\r\n",
    " > Sender \"promotions @online.com\" ? true / false\r\n",
    "\r\n",
    " > Description contains \"deposit\"? true/false\r\n",
    " - Train and use the model"
   ],
   "metadata": {}
  },
  {
   "cell_type": "markdown",
   "source": [
    "Binary features - Take 2 values i.e true or false\r\n",
    "\r\n",
    "** Supervised Machine Learning**\r\n",
    "- Examples: Regression, classification, ranking"
   ],
   "metadata": {}
  },
  {
   "cell_type": "markdown",
   "source": [
    " # **1.3 Supervised Machine Learning**\r\n",
    " Teaching a computer by showing different examples. \r\n",
    "\r\n",
    " feature matrix - 2 dimensional array where: (X)\r\n",
    "- rows; observations which you want to predict something\r\n",
    "- columns; features\r\n",
    "\r\n",
    "target variable (y): 1 dimensional array\r\n",
    "\r\n",
    "X and produce y\r\n",
    "- model takes in X (features) and produces something close as possible to y (target)\r\n",
    "\r\n",
    "Types of supervised machine learning:\r\n",
    "- Regression; outputs a number i.e predicting price of car, house\r\n",
    "- Classification; ouputs a category i.e spam or not spam, \r\n",
    "> Multiclass: classify into multiple different categories. More than 2 i.e classify images to cat, dog, car\r\n",
    "\r\n",
    "> Binary classification i.e email is spam or not spam\r\n",
    "\r\n",
    "- Ranking; when you want to rank something i.e recommendation system "
   ],
   "metadata": {}
  },
  {
   "cell_type": "markdown",
   "source": [
    "# **1.4 CRISP-DM**"
   ],
   "metadata": {}
  },
  {
   "cell_type": "markdown",
   "source": [
    "# **1.5 Model Selection Process**"
   ],
   "metadata": {}
  },
  {
   "cell_type": "markdown",
   "source": [
    "# **1.6 Setting up the Environment**"
   ],
   "metadata": {}
  },
  {
   "cell_type": "markdown",
   "source": [
    "# **1.7 Introduction to Numpy**"
   ],
   "metadata": {}
  },
  {
   "cell_type": "markdown",
   "source": [
    "# **1.8 Linear Algebra Refresher**"
   ],
   "metadata": {}
  },
  {
   "cell_type": "markdown",
   "source": [
    "# **1.9 Introduction to Pandas**"
   ],
   "metadata": {}
  },
  {
   "cell_type": "markdown",
   "source": [
    "# **1.10 Summary**"
   ],
   "metadata": {}
  },
  {
   "cell_type": "markdown",
   "source": [
    "# **1.11 Homework**"
   ],
   "metadata": {}
  },
  {
   "cell_type": "markdown",
   "source": [],
   "metadata": {}
  }
 ],
 "metadata": {
  "orig_nbformat": 4,
  "language_info": {
   "name": "python",
   "version": "3.8.11"
  },
  "kernelspec": {
   "name": "python3",
   "display_name": "Python 3.8.11 64-bit ('ml-zoomcamp': conda)"
  },
  "interpreter": {
   "hash": "87940b4be878ee1c9ef48e0275ad9bfc7e63c11b79b009e7a3800b65aa0685b1"
  }
 },
 "nbformat": 4,
 "nbformat_minor": 2
}